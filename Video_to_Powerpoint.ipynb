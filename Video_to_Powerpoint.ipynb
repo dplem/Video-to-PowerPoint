{
 "cells": [
  {
   "cell_type": "code",
   "execution_count": 1,
   "metadata": {},
   "outputs": [
    {
     "output_type": "stream",
     "name": "stdout",
     "text": [
      "Requirement already satisfied: pyscreenshot in c:\\python39\\lib\\site-packages (2.3)\nRequirement already satisfied: EasyProcess in c:\\python39\\lib\\site-packages (from pyscreenshot) (0.3)\nRequirement already satisfied: mss in c:\\python39\\lib\\site-packages (from pyscreenshot) (6.1.0)\nRequirement already satisfied: entrypoint2 in c:\\python39\\lib\\site-packages (from pyscreenshot) (0.2.3)\nCollecting argparse\n  Using cached argparse-1.4.0-py2.py3-none-any.whl (23 kB)\nInstalling collected packages: argparse\nSuccessfully installed argparse-1.4.0\n"
     ]
    }
   ],
   "source": [
    "# Take screeshot of designated coordinates\n",
    "!pip install pyscreenshot"
   ]
  },
  {
   "cell_type": "code",
   "execution_count": 2,
   "metadata": {},
   "outputs": [
    {
     "output_type": "stream",
     "name": "stdout",
     "text": [
      "Requirement already satisfied: pynput in c:\\python39\\lib\\site-packages (1.7.3)\nRequirement already satisfied: six in c:\\python39\\lib\\site-packages (from pynput) (1.15.0)\n"
     ]
    }
   ],
   "source": [
    "# Identifies coordinates to take screenshot\n",
    "!pip install pynput"
   ]
  },
  {
   "cell_type": "code",
   "execution_count": 3,
   "metadata": {},
   "outputs": [
    {
     "output_type": "stream",
     "name": "stdout",
     "text": [
      "Requirement already satisfied: python-pptx in c:\\python39\\lib\\site-packages (0.6.18)\nRequirement already satisfied: lxml>=3.1.0 in c:\\python39\\lib\\site-packages (from python-pptx) (4.6.2)\nRequirement already satisfied: Pillow>=3.3.2 in c:\\python39\\lib\\site-packages (from python-pptx) (8.1.0)\nRequirement already satisfied: XlsxWriter>=0.5.7 in c:\\python39\\lib\\site-packages (from python-pptx) (1.3.8)\n"
     ]
    }
   ],
   "source": [
    "# Creates PPTX file and saves image to slide\n",
    "!pip install python-pptx"
   ]
  },
  {
   "cell_type": "code",
   "execution_count": 4,
   "metadata": {},
   "outputs": [
    {
     "output_type": "stream",
     "name": "stdout",
     "text": [
      "Requirement already satisfied: scikit-image in c:\\python39\\lib\\site-packages (0.18.1)\nRequirement already satisfied: tifffile>=2019.7.26 in c:\\python39\\lib\\site-packages (from scikit-image) (2021.3.31)\nRequirement already satisfied: PyWavelets>=1.1.1 in c:\\python39\\lib\\site-packages (from scikit-image) (1.1.1)\nRequirement already satisfied: scipy>=1.0.1 in c:\\python39\\lib\\site-packages (from scikit-image) (1.6.1)\nRequirement already satisfied: matplotlib!=3.0.0,>=2.0.0 in c:\\python39\\lib\\site-packages (from scikit-image) (3.3.4)\nRequirement already satisfied: numpy>=1.16.5 in c:\\python39\\lib\\site-packages (from scikit-image) (1.20.1)\nRequirement already satisfied: pillow!=7.1.0,!=7.1.1,>=4.3.0 in c:\\python39\\lib\\site-packages (from scikit-image) (8.1.0)\nRequirement already satisfied: networkx>=2.0 in c:\\python39\\lib\\site-packages (from scikit-image) (2.5)\nRequirement already satisfied: imageio>=2.3.0 in c:\\python39\\lib\\site-packages (from scikit-image) (2.9.0)\nRequirement already satisfied: cycler>=0.10 in c:\\python39\\lib\\site-packages (from matplotlib!=3.0.0,>=2.0.0->scikit-image) (0.10.0)\nRequirement already satisfied: pyparsing!=2.0.4,!=2.1.2,!=2.1.6,>=2.0.3 in c:\\users\\derek\\appdata\\roaming\\python\\python39\\site-packages (from matplotlib!=3.0.0,>=2.0.0->scikit-image) (2.4.7)\nRequirement already satisfied: kiwisolver>=1.0.1 in c:\\python39\\lib\\site-packages (from matplotlib!=3.0.0,>=2.0.0->scikit-image) (1.3.1)\nRequirement already satisfied: python-dateutil>=2.1 in c:\\python39\\lib\\site-packages (from matplotlib!=3.0.0,>=2.0.0->scikit-image) (2.8.1)\nRequirement already satisfied: six in c:\\python39\\lib\\site-packages (from cycler>=0.10->matplotlib!=3.0.0,>=2.0.0->scikit-image) (1.15.0)\nRequirement already satisfied: decorator>=4.3.0 in c:\\users\\derek\\appdata\\roaming\\python\\python39\\site-packages (from networkx>=2.0->scikit-image) (4.4.2)\n"
     ]
    }
   ],
   "source": [
    "# Identifies changes between two images\n",
    "!pip install scikit-image"
   ]
  },
  {
   "cell_type": "code",
   "execution_count": 5,
   "metadata": {},
   "outputs": [],
   "source": [
    "# Use pynput.mouse.Listener\n",
    "from pynput.mouse import Listener\n",
    "from pynput import keyboard\n",
    "import time\n",
    "\n",
    "#Grab the part of the screen\n",
    "import pyscreenshot as ImageGrab\n",
    "\n",
    "# Inserting image into the PowerPoint file\n",
    "from pptx import Presentation \n",
    "from pptx.util import Inches\n",
    "\n",
    "import numpy as np\n",
    "import matplotlib.pyplot as plt\n",
    "\n",
    "from skimage import data, img_as_float\n",
    "#from skimage.metrics import structural_similarity as ssim\n",
    "from skimage.metrics import mean_squared_error\n",
    "\n",
    "#store objects in files\n",
    "import pickle"
   ]
  },
  {
   "cell_type": "code",
   "execution_count": 6,
   "metadata": {},
   "outputs": [
    {
     "output_type": "stream",
     "name": "stdout",
     "text": [
      "Mouse drag from 23 , 298 to 672 , 783\n"
     ]
    }
   ],
   "source": [
    "# Capture screen area of mouse click and release\n",
    "# Must click in upper left corner and release in lower right corner of area to capture correct coordinates\n",
    "\n",
    "down_x = down_y = up_x = up_y = -1\n",
    "\n",
    "def on_click(x, y, button, pressed):\n",
    "    global down_x\n",
    "    global down_y\n",
    "    global up_x\n",
    "    global up_y\n",
    "    if pressed:\n",
    "        (down_x, down_y) = (x, y)\n",
    "    else:\n",
    "        (up_x, up_y) = (x, y)\n",
    "        return False\n",
    "\n",
    "with Listener(on_click=on_click) as listener:\n",
    "    listener.join()\n",
    "\n",
    "print(\"Mouse drag from\", down_x, \",\", down_y, \"to\", up_x, \",\", up_y)"
   ]
  },
  {
   "cell_type": "code",
   "execution_count": 7,
   "metadata": {},
   "outputs": [],
   "source": [
    "def create():\n",
    "    global im\n",
    "    # part of the screen\n",
    "    im = ImageGrab.grab(bbox=(down_x, down_y, up_x, up_y))  # X1,Y1,X2,Y2\n",
    "    # save image file\n",
    "    im.save(\"test.png\")\n",
    "    # Giving Image path \n",
    "    img_path = \"test.png\"\n",
    "    # Creating an Presentation object\n",
    "    ppt = Presentation() \n",
    "    # Selecting blank slide\n",
    "    blank_slide_layout = ppt.slide_layouts[6]\n",
    "    # Attaching slide to ppt\n",
    "    slide = ppt.slides.add_slide(blank_slide_layout) \n",
    "    # For margins\n",
    "    left = top = Inches(1) \n",
    "    left = Inches(.5) \n",
    "    height = Inches(5) \n",
    "    pic = slide.shapes.add_picture(img_path, left, top, height = height)\n",
    "    # save file\n",
    "    ppt.save('test_4.pptx')"
   ]
  },
  {
   "cell_type": "code",
   "execution_count": 8,
   "metadata": {},
   "outputs": [],
   "source": [
    "create()"
   ]
  },
  {
   "cell_type": "code",
   "execution_count": 9,
   "metadata": {},
   "outputs": [
    {
     "output_type": "stream",
     "name": "stdout",
     "text": [
      "Key.enter\n",
      "Key.shift\n",
      "'#'\n",
      "Key.space\n",
      "Key.shift\n",
      "'M'\n",
      "'u'\n",
      "'s'\n",
      "'t'\n",
      "Key.space\n",
      "'c'\n",
      "'l'\n",
      "'i'\n",
      "'c'\n",
      "'k'\n",
      "Key.space\n",
      "'i'\n",
      "'n'\n",
      "Key.space\n",
      "'u'\n",
      "'p'\n",
      "'p'\n",
      "'e'\n",
      "'r'\n",
      "Key.space\n",
      "'l'\n",
      "'e'\n",
      "'f'\n",
      "'t'\n",
      "Key.space\n",
      "'c'\n",
      "'o'\n",
      "'r'\n",
      "'n'\n",
      "'e'\n",
      "'r'\n",
      "Key.space\n",
      "'a'\n",
      "'n'\n",
      "'d'\n",
      "Key.space\n",
      "'r'\n",
      "'e'\n",
      "'l'\n",
      "'e'\n",
      "'a'\n",
      "'s'\n",
      "'e'\n",
      "Key.space\n",
      "'i'\n",
      "'n'\n",
      "Key.space\n",
      "'l'\n",
      "'o'\n",
      "'w'\n",
      "'e'\n",
      "'r'\n",
      "Key.space\n",
      "'r'\n",
      "'i'\n",
      "'g'\n",
      "'h'\n",
      "'t'\n",
      "Key.space\n",
      "'c'\n",
      "'o'\n",
      "'r'\n",
      "'n'\n",
      "'e'\n",
      "'r'\n",
      "Key.space\n",
      "'o'\n",
      "'f'\n",
      "Key.space\n",
      "'a'\n",
      "'r'\n",
      "'e'\n",
      "'a'\n",
      "Key.space\n",
      "'t'\n",
      "'o'\n",
      "Key.space\n",
      "'c'\n",
      "'a'\n",
      "'p'\n",
      "'t'\n",
      "'u'\n",
      "'r'\n",
      "'e'\n",
      "Key.space\n",
      "'c'\n",
      "'o'\n",
      "'r'\n",
      "'r'\n",
      "'e'\n",
      "'c'\n",
      "'t'\n",
      "Key.space\n",
      "'c'\n",
      "'o'\n",
      "'o'\n",
      "'r'\n",
      "'d'\n",
      "'i'\n",
      "'n'\n",
      "'a'\n",
      "'t'\n",
      "'e'\n",
      "'s'\n",
      "Key.end\n",
      "end pressed\n"
     ]
    }
   ],
   "source": [
    "# Press 'End' key to close process\n",
    "\n",
    "break_program = False\n",
    "def on_press(key):\n",
    "    global break_program\n",
    "    #print (key)\n",
    "    if key == keyboard.Key.end:\n",
    "        print ('end pressed')\n",
    "        break_program = True\n",
    "        return False\n",
    "    \n",
    "    \n",
    "with keyboard.Listener(on_press=on_press) as listener:\n",
    "    while break_program == False:\n",
    "        im2 = ImageGrab.grab(bbox=(down_x, down_y, up_x, up_y))  # X1,Y1,X2,Y2\n",
    "        im2.save(\"test2.png\")\n",
    "        # Compare images using Mean Squared Error\n",
    "        img1 = img_as_float(im)\n",
    "        img2 = img_as_float(im2)\n",
    "        mse = mean_squared_error(img1, img2)\n",
    "        # Giving Image path \n",
    "        img_path = \"test2.png\"\n",
    "        # Creating an Presentation object\n",
    "        ppt = Presentation('test_4.pptx') \n",
    "        # Selecting blank slide\n",
    "        blank_slide_layout = ppt.slide_layouts[6] \n",
    "        # Attaching slide to ppt\n",
    "        slide = ppt.slides.add_slide(blank_slide_layout) \n",
    "        # For margins\n",
    "        left = top = Inches(1) \n",
    "        left = Inches(.5) \n",
    "        height = Inches(5) \n",
    "        pic = slide.shapes.add_picture(img_path, left, top, height = height)\n",
    "        if mse != 0:\n",
    "            ppt.save('test_4.pptx')\n",
    "            im == im2\n",
    "        time.sleep(10)\n",
    "    listener.join()"
   ]
  },
  {
   "cell_type": "code",
   "execution_count": null,
   "metadata": {},
   "outputs": [],
   "source": []
  }
 ],
 "metadata": {
  "kernelspec": {
   "display_name": "Python 3",
   "language": "python",
   "name": "python3"
  },
  "language_info": {
   "codemirror_mode": {
    "name": "ipython",
    "version": 3
   },
   "file_extension": ".py",
   "mimetype": "text/x-python",
   "name": "python",
   "nbconvert_exporter": "python",
   "pygments_lexer": "ipython3",
   "version": "3.9.0-final"
  }
 },
 "nbformat": 4,
 "nbformat_minor": 4
}