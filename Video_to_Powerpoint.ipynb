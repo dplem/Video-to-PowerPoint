{
 "cells": [
  {
   "cell_type": "code",
   "execution_count": 1,
   "metadata": {},
   "outputs": [
    {
     "name": "stdout",
     "output_type": "stream",
     "text": [
      "Requirement already satisfied: Pillow in c:\\users\\derek\\anaconda3\\lib\\site-packages (8.0.1)\n",
      "Requirement already satisfied: pyscreenshot in c:\\users\\derek\\anaconda3\\lib\\site-packages (2.3)\n",
      "Requirement already satisfied: EasyProcess in c:\\users\\derek\\anaconda3\\lib\\site-packages (from pyscreenshot) (0.3)\n",
      "Requirement already satisfied: entrypoint2 in c:\\users\\derek\\anaconda3\\lib\\site-packages (from pyscreenshot) (0.2.3)\n",
      "Requirement already satisfied: mss in c:\\users\\derek\\anaconda3\\lib\\site-packages (from pyscreenshot) (6.1.0)\n",
      "Collecting argparse\n",
      "  Using cached argparse-1.4.0-py2.py3-none-any.whl (23 kB)\n",
      "Installing collected packages: argparse\n",
      "Successfully installed argparse-1.4.0\n"
     ]
    }
   ],
   "source": [
    "# Take screeshot of designated coordinates\n",
    "!pip install Pillow pyscreenshot"
   ]
  },
  {
   "cell_type": "code",
   "execution_count": 2,
   "metadata": {},
   "outputs": [
    {
     "name": "stdout",
     "output_type": "stream",
     "text": [
      "Requirement already satisfied: pynput in c:\\users\\derek\\anaconda3\\lib\\site-packages (1.7.3)\n",
      "Requirement already satisfied: six in c:\\users\\derek\\anaconda3\\lib\\site-packages (from pynput) (1.15.0)\n"
     ]
    }
   ],
   "source": [
    "# Identifies coordinates to take screenshot\n",
    "!pip install pynput"
   ]
  },
  {
   "cell_type": "code",
   "execution_count": 3,
   "metadata": {},
   "outputs": [
    {
     "name": "stdout",
     "output_type": "stream",
     "text": [
      "Requirement already satisfied: python-pptx in c:\\users\\derek\\anaconda3\\lib\\site-packages (0.6.18)\n",
      "Requirement already satisfied: XlsxWriter>=0.5.7 in c:\\users\\derek\\anaconda3\\lib\\site-packages (from python-pptx) (1.3.7)\n",
      "Requirement already satisfied: Pillow>=3.3.2 in c:\\users\\derek\\anaconda3\\lib\\site-packages (from python-pptx) (8.0.1)\n",
      "Requirement already satisfied: lxml>=3.1.0 in c:\\users\\derek\\anaconda3\\lib\\site-packages (from python-pptx) (4.6.1)\n"
     ]
    }
   ],
   "source": [
    "# Creates PPTX file and saves image to slide\n",
    "!pip install python-pptx"
   ]
  },
  {
   "cell_type": "code",
   "execution_count": 4,
   "metadata": {},
   "outputs": [
    {
     "name": "stdout",
     "output_type": "stream",
     "text": [
      "Requirement already satisfied: scikit-image in c:\\users\\derek\\anaconda3\\lib\\site-packages (0.18.1)\n",
      "Requirement already satisfied: scipy>=1.0.1 in c:\\users\\derek\\anaconda3\\lib\\site-packages (from scikit-image) (1.5.2)\n",
      "Requirement already satisfied: imageio>=2.3.0 in c:\\users\\derek\\anaconda3\\lib\\site-packages (from scikit-image) (2.9.0)\n",
      "Requirement already satisfied: pillow!=7.1.0,!=7.1.1,>=4.3.0 in c:\\users\\derek\\anaconda3\\lib\\site-packages (from scikit-image) (8.0.1)\n",
      "Requirement already satisfied: numpy>=1.16.5 in c:\\users\\derek\\anaconda3\\lib\\site-packages (from scikit-image) (1.19.2)\n",
      "Requirement already satisfied: PyWavelets>=1.1.1 in c:\\users\\derek\\anaconda3\\lib\\site-packages (from scikit-image) (1.1.1)\n",
      "Requirement already satisfied: tifffile>=2019.7.26 in c:\\users\\derek\\anaconda3\\lib\\site-packages (from scikit-image) (2020.10.1)\n",
      "Requirement already satisfied: matplotlib!=3.0.0,>=2.0.0 in c:\\users\\derek\\anaconda3\\lib\\site-packages (from scikit-image) (3.3.2)\n",
      "Requirement already satisfied: networkx>=2.0 in c:\\users\\derek\\anaconda3\\lib\\site-packages (from scikit-image) (2.5)\n",
      "Requirement already satisfied: certifi>=2020.06.20 in c:\\users\\derek\\anaconda3\\lib\\site-packages (from matplotlib!=3.0.0,>=2.0.0->scikit-image) (2020.6.20)\n",
      "Requirement already satisfied: python-dateutil>=2.1 in c:\\users\\derek\\anaconda3\\lib\\site-packages (from matplotlib!=3.0.0,>=2.0.0->scikit-image) (2.8.1)\n",
      "Requirement already satisfied: kiwisolver>=1.0.1 in c:\\users\\derek\\anaconda3\\lib\\site-packages (from matplotlib!=3.0.0,>=2.0.0->scikit-image) (1.3.0)\n",
      "Requirement already satisfied: pyparsing!=2.0.4,!=2.1.2,!=2.1.6,>=2.0.3 in c:\\users\\derek\\anaconda3\\lib\\site-packages (from matplotlib!=3.0.0,>=2.0.0->scikit-image) (2.4.7)\n",
      "Requirement already satisfied: cycler>=0.10 in c:\\users\\derek\\anaconda3\\lib\\site-packages (from matplotlib!=3.0.0,>=2.0.0->scikit-image) (0.10.0)\n",
      "Requirement already satisfied: six in c:\\users\\derek\\anaconda3\\lib\\site-packages (from cycler>=0.10->matplotlib!=3.0.0,>=2.0.0->scikit-image) (1.15.0)\n",
      "Requirement already satisfied: decorator>=4.3.0 in c:\\users\\derek\\anaconda3\\lib\\site-packages (from networkx>=2.0->scikit-image) (4.4.2)\n"
     ]
    }
   ],
   "source": [
    "# Identifies changes between two images\n",
    "!pip install -U scikit-image"
   ]
  },
  {
   "cell_type": "code",
   "execution_count": 5,
   "metadata": {},
   "outputs": [],
   "source": [
    "# Use pynput.mouse.Listener\n",
    "from pynput.mouse import Listener\n",
    "from pynput import keyboard\n",
    "import time\n",
    "\n",
    "#Grab the part of the screen\n",
    "import pyscreenshot as ImageGrab\n",
    "\n",
    "# Inserting image into the PowerPoint file\n",
    "from pptx import Presentation \n",
    "from pptx.util import Inches\n",
    "\n",
    "import numpy as np\n",
    "import matplotlib.pyplot as plt\n",
    "\n",
    "from skimage import data, img_as_float\n",
    "#from skimage.metrics import structural_similarity as ssim\n",
    "from skimage.metrics import mean_squared_error\n",
    "\n",
    "#store objects in files\n",
    "import pickle"
   ]
  },
  {
   "cell_type": "code",
   "execution_count": 36,
   "metadata": {},
   "outputs": [
    {
     "name": "stdout",
     "output_type": "stream",
     "text": [
      "Mouse drag from 28 , 290 to 674 , 773\n"
     ]
    }
   ],
   "source": [
    "# Capture screen area of mouse click and release\n",
    "\n",
    "down_x = down_y = up_x = up_y = -1\n",
    "\n",
    "def on_click(x, y, button, pressed):\n",
    "    global down_x\n",
    "    global down_y\n",
    "    global up_x\n",
    "    global up_y\n",
    "    if pressed:\n",
    "        (down_x, down_y) = (x, y)\n",
    "    else:\n",
    "        (up_x, up_y) = (x, y)\n",
    "        return False\n",
    "\n",
    "with Listener(on_click=on_click) as listener:\n",
    "    listener.join()\n",
    "\n",
    "print(\"Mouse drag from\", down_x, \",\", down_y, \"to\", up_x, \",\", up_y)"
   ]
  },
  {
   "cell_type": "code",
   "execution_count": 37,
   "metadata": {},
   "outputs": [],
   "source": [
    "def create():\n",
    "    global im\n",
    "    # part of the screen\n",
    "    im = ImageGrab.grab(bbox=(down_x, down_y, up_x, up_y))  # X1,Y1,X2,Y2\n",
    "    # save image file\n",
    "    im.save(\"test.png\")\n",
    "    # Giving Image path \n",
    "    img_path = \"test.png\"\n",
    "    # Creating an Presentation object\n",
    "    ppt = Presentation() \n",
    "    # Selecting blank slide\n",
    "    blank_slide_layout = ppt.slide_layouts[6]\n",
    "    # Attaching slide to ppt\n",
    "    slide = ppt.slides.add_slide(blank_slide_layout) \n",
    "    # For margins\n",
    "    left = top = Inches(1) \n",
    "    left = Inches(.5) \n",
    "    height = Inches(5) \n",
    "    pic = slide.shapes.add_picture(img_path, left, top, height = height)\n",
    "    # save file\n",
    "    ppt.save('test_4.pptx')"
   ]
  },
  {
   "cell_type": "code",
   "execution_count": 38,
   "metadata": {},
   "outputs": [],
   "source": [
    "create()"
   ]
  },
  {
   "cell_type": "code",
   "execution_count": 39,
   "metadata": {},
   "outputs": [
    {
     "name": "stdout",
     "output_type": "stream",
     "text": [
      "Key.end\n",
      "end pressed\n"
     ]
    }
   ],
   "source": [
    "break_program = False\n",
    "def on_press(key):\n",
    "    global break_program\n",
    "    print (key)\n",
    "    if key == keyboard.Key.end:\n",
    "        print ('end pressed')\n",
    "        break_program = True\n",
    "        return False\n",
    "    \n",
    "    \n",
    "with keyboard.Listener(on_press=on_press) as listener:\n",
    "    while break_program == False:\n",
    "        im2 = ImageGrab.grab(bbox=(down_x, down_y, up_x, up_y))  # X1,Y1,X2,Y2\n",
    "        im2.save(\"test2.png\")\n",
    "        # Compare images using Mean Squared Error\n",
    "        img1 = img_as_float(im)\n",
    "        img2 = img_as_float(im2)\n",
    "        mse = mean_squared_error(img1, img2)\n",
    "        # Giving Image path \n",
    "        img_path = \"test2.png\"\n",
    "        # Creating an Presentation object\n",
    "        ppt = Presentation('test_4.pptx') \n",
    "        # Selecting blank slide\n",
    "        blank_slide_layout = ppt.slide_layouts[6] \n",
    "        # Attaching slide to ppt\n",
    "        slide = ppt.slides.add_slide(blank_slide_layout) \n",
    "        # For margins\n",
    "        left = top = Inches(1) \n",
    "        left = Inches(.5) \n",
    "        height = Inches(5) \n",
    "        pic = slide.shapes.add_picture(img_path, left, top, height = height)\n",
    "        if mse != 0:\n",
    "            ppt.save('test_4.pptx')\n",
    "            im == im2\n",
    "        time.sleep(10)\n",
    "    listener.join()"
   ]
  },
  {
   "cell_type": "code",
   "execution_count": null,
   "metadata": {},
   "outputs": [],
   "source": []
  }
 ],
 "metadata": {
  "kernelspec": {
   "display_name": "Python 3",
   "language": "python",
   "name": "python3"
  },
  "language_info": {
   "codemirror_mode": {
    "name": "ipython",
    "version": 3
   },
   "file_extension": ".py",
   "mimetype": "text/x-python",
   "name": "python",
   "nbconvert_exporter": "python",
   "pygments_lexer": "ipython3",
   "version": "3.8.5"
  }
 },
 "nbformat": 4,
 "nbformat_minor": 4
}
